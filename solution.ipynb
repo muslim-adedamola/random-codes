{
 "cells": [
  {
   "cell_type": "code",
   "execution_count": 25,
   "id": "9eb948e3",
   "metadata": {},
   "outputs": [],
   "source": [
    "import struct\n",
    "import numpy as np\n",
    "import matplotlib.pyplot as plt\n",
    "import pickle"
   ]
  },
  {
   "cell_type": "markdown",
   "id": "4fc8bee0",
   "metadata": {},
   "source": [
    "#### TASK 2: Load the MNIST Dataset"
   ]
  },
  {
   "cell_type": "code",
   "execution_count": 12,
   "id": "87d22f94",
   "metadata": {},
   "outputs": [],
   "source": [
    "# Function to load MNIST images\n",
    "def load_images(file_path):\n",
    "    with open(file_path, 'rb') as f:\n",
    "        magic, num_images = struct.unpack(\">II\", f.read(8))\n",
    "        rows, cols = struct.unpack(\">II\", f.read(8))\n",
    "        images = np.fromfile(f, dtype=np.uint8).reshape(num_images, rows * cols)\n",
    "    return images\n",
    "\n",
    "# Function to load MNIST labels\n",
    "def load_labels(file_path):\n",
    "    with open(file_path, 'rb') as f:\n",
    "        magic, num_labels = struct.unpack(\">II\", f.read(8))\n",
    "        labels = np.fromfile(f, dtype=np.uint8)\n",
    "    return labels"
   ]
  },
  {
   "cell_type": "code",
   "execution_count": 13,
   "id": "232b0017",
   "metadata": {},
   "outputs": [],
   "source": [
    "# Load train and test data\n",
    "train_images = load_images('train-images-idx3-ubyte')\n",
    "train_labels = load_labels('train-labels-idx1-ubyte')\n",
    "test_images = load_images('t10k-images-idx3-ubyte')\n",
    "test_labels = load_labels('t10k-labels-idx1-ubyte')"
   ]
  },
  {
   "cell_type": "markdown",
   "id": "4a393628",
   "metadata": {},
   "source": [
    "#### TASK 3: Reshape and visualize the images"
   ]
  },
  {
   "cell_type": "code",
   "execution_count": 14,
   "id": "138703ef",
   "metadata": {},
   "outputs": [
    {
     "data": {
      "image/png": "[encoded data removed]",
      "text/plain": [
       "<Figure size 640x480 with 1 Axes>"
      ]
     },
     "metadata": {},
     "output_type": "display_data"
    }
   ],
   "source": [
    "# Function to reshape a flat array into a 28x28 image for visualization\n",
    "def reshape_and_visualize(image_data, index):\n",
    "    img = image_data[index].reshape(28, 28)\n",
    "    plt.imshow(img, cmap='gray')\n",
    "    plt.show()\n",
    "\n",
    "# Example visualization\n",
    "reshape_and_visualize(train_images, 0)  # Visualize the first training image\n"
   ]
  },
  {
   "cell_type": "markdown",
   "id": "9c920c82",
   "metadata": {},
   "source": [
    "#### TASK 4: Structure the Network"
   ]
  },
  {
   "cell_type": "code",
   "execution_count": 15,
   "id": "910fbcc6",
   "metadata": {},
   "outputs": [],
   "source": [
    "class NeuralNetwork:\n",
    "    def __init__(self, input_size=784, hidden_size=512, output_size=10):\n",
    "        # Initialize weights and biases\n",
    "        self.weights_input_hidden = np.random.randn(input_size, hidden_size) * 0.01\n",
    "        self.bias_hidden = np.zeros((1, hidden_size))\n",
    "        self.weights_hidden_output = np.random.randn(hidden_size, output_size) * 0.01\n",
    "        self.bias_output = np.zeros((1, output_size))\n",
    "\n",
    "    def relu(self, x):\n",
    "        return np.maximum(0, x)\n",
    "\n",
    "    def softmax(self, x):\n",
    "        exp_x = np.exp(x - np.max(x))\n",
    "        return exp_x / exp_x.sum(axis=1, keepdims=True)\n",
    "\n",
    "    # Forward pass function\n",
    "    def forward(self, x):\n",
    "        self.hidden_input = np.dot(x, self.weights_input_hidden) + self.bias_hidden\n",
    "        self.hidden_output = self.relu(self.hidden_input)\n",
    "        self.output_input = np.dot(self.hidden_output, self.weights_hidden_output) + self.bias_output\n",
    "        self.output = self.softmax(self.output_input)\n",
    "        return self.output\n"
   ]
  },
  {
   "cell_type": "markdown",
   "id": "513d9a07",
   "metadata": {},
   "source": [
    "#### TASK 5: Instantiate the neural network with initialized weights\n",
    "\n"
   ]
  },
  {
   "cell_type": "code",
   "execution_count": 16,
   "id": "8565da56",
   "metadata": {},
   "outputs": [],
   "source": [
    "nn = NeuralNetwork()"
   ]
  },
  {
   "cell_type": "markdown",
   "id": "d2663a2a",
   "metadata": {},
   "source": [
    "#### Task 6: Implement a Forward Pass"
   ]
  },
  {
   "cell_type": "code",
   "execution_count": 17,
   "id": "202f4d19",
   "metadata": {},
   "outputs": [
    {
     "name": "stdout",
     "output_type": "stream",
     "text": [
      "Predicted output: [[0.10165559 0.1008904  0.09850876 0.09940342 0.10169916 0.09980944\n",
      "  0.1007393  0.09848906 0.09893541 0.09986946]]\n"
     ]
    }
   ],
   "source": [
    "# Forward pass for one image\n",
    "sample_image = train_images[0] / 255.0  # Normalize the pixel values\n",
    "output = nn.forward(sample_image.reshape(1, -1))  # Flatten the image and pass to the network\n",
    "print(f\"Predicted output: {output}\")"
   ]
  },
  {
   "cell_type": "markdown",
   "id": "ca0ee3fb",
   "metadata": {},
   "source": [
    "#### Task 7: Implement a Loss Function (Cross Entropy Loss Function)"
   ]
  },
  {
   "cell_type": "code",
   "execution_count": 18,
   "id": "17374914",
   "metadata": {},
   "outputs": [
    {
     "name": "stdout",
     "output_type": "stream",
     "text": [
      "Loss: 2.3044924573649905\n"
     ]
    }
   ],
   "source": [
    "# Cross-entropy loss function\n",
    "def cross_entropy_loss(predictions, labels):\n",
    "    return -np.sum(labels * np.log(predictions + 1e-8)) / labels.shape[0]\n",
    "\n",
    "# Prepare a sample label (one-hot encoded)\n",
    "sample_label = np.zeros((1, 10))\n",
    "sample_label[0, train_labels[0]] = 1\n",
    "\n",
    "# Compute loss for one sample\n",
    "loss = cross_entropy_loss(output, sample_label)\n",
    "print(f\"Loss: {loss}\")"
   ]
  },
  {
   "cell_type": "markdown",
   "id": "95ff229c",
   "metadata": {},
   "source": [
    "#### Task 8: Implement Backpropagation and Gradient Descent"
   ]
  },
  {
   "cell_type": "code",
   "execution_count": 20,
   "id": "23defc3c",
   "metadata": {},
   "outputs": [],
   "source": [
    "# Backpropagation function\n",
    "def backpropagate(nn, x, y, learning_rate=0.001):\n",
    "    # Forward pass (already implemented)\n",
    "    output = nn.forward(x)\n",
    "\n",
    "    # Calculate output layer error\n",
    "    output_error = output - y  # dL/dZ (softmax error)\n",
    "    \n",
    "    # Backpropagate to hidden layer\n",
    "    hidden_error = np.dot(output_error, nn.weights_hidden_output.T) * (nn.hidden_output > 0)  # dL/dA (ReLU derivative)\n",
    "    \n",
    "    # Gradients for weights and biases\n",
    "    grad_who = np.dot(nn.hidden_output.T, output_error)\n",
    "    grad_b_o = np.sum(output_error, axis=0, keepdims=True)\n",
    "    grad_wih = np.dot(x.T, hidden_error)\n",
    "    grad_b_h = np.sum(hidden_error, axis=0, keepdims=True)\n",
    "    \n",
    "    # Gradient descent update\n",
    "    nn.weights_hidden_output -= learning_rate * grad_who\n",
    "    nn.bias_output -= learning_rate * grad_b_o\n",
    "    nn.weights_input_hidden -= learning_rate * grad_wih\n",
    "    nn.bias_hidden -= learning_rate * grad_b_h\n",
    "\n",
    "# Example backpropagation run for one sample\n",
    "backpropagate(nn, sample_image.reshape(1, -1), sample_label)\n"
   ]
  },
  {
   "cell_type": "markdown",
   "id": "62c2aeef",
   "metadata": {},
   "source": [
    "#### TASK 9: Improved Initialization (He Initialization)"
   ]
  },
  {
   "cell_type": "code",
   "execution_count": 21,
   "id": "5dbef89a",
   "metadata": {},
   "outputs": [],
   "source": [
    "def he_initialization(size_in, size_out):\n",
    "    return np.random.randn(size_in, size_out) * np.sqrt(2 / size_in)\n",
    "\n",
    "# Reinitialize weights with He initialization\n",
    "nn.weights_input_hidden = he_initialization(784, 512)\n",
    "nn.weights_hidden_output = he_initialization(512, 10)\n"
   ]
  },
  {
   "cell_type": "markdown",
   "id": "09779458",
   "metadata": {},
   "source": [
    "#### Task 10: Implement Momentum"
   ]
  },
  {
   "cell_type": "code",
   "execution_count": 22,
   "id": "e1002073",
   "metadata": {},
   "outputs": [],
   "source": [
    "class MomentumNeuralNetwork(NeuralNetwork):\n",
    "    def __init__(self, input_size=784, hidden_size=512, output_size=10, momentum=0.9):\n",
    "        super().__init__(input_size, hidden_size, output_size)\n",
    "        self.momentum = momentum\n",
    "        self.v_wih = np.zeros_like(self.weights_input_hidden)\n",
    "        self.v_who = np.zeros_like(self.weights_hidden_output)\n",
    "\n",
    "    def update_with_momentum(self, grad_wih, grad_who, learning_rate):\n",
    "        self.v_wih = self.momentum * self.v_wih - learning_rate * grad_wih\n",
    "        self.v_who = self.momentum * self.v_who - learning_rate * grad_who\n",
    "        self.weights_input_hidden += self.v_wih\n",
    "        self.weights_hidden_output += self.v_who\n",
    "\n",
    "# Example usage with momentum\n",
    "momentum_nn = MomentumNeuralNetwork()\n"
   ]
  },
  {
   "cell_type": "markdown",
   "id": "a946d253",
   "metadata": {},
   "source": [
    "#### Task 11: Overfitting and Validation"
   ]
  },
  {
   "cell_type": "code",
   "execution_count": 23,
   "id": "be643a9c",
   "metadata": {},
   "outputs": [
    {
     "name": "stdout",
     "output_type": "stream",
     "text": [
      "Training loss: 2.404913076669037, Validation loss: 2.338686193410849\n"
     ]
    }
   ],
   "source": [
    "# Split the dataset into training and validation sets (75% train, 25% validation)\n",
    "split_idx = int(0.75 * len(train_images))\n",
    "train_X, val_X = train_images[:split_idx], train_images[split_idx:]\n",
    "train_y, val_y = train_labels[:split_idx], train_labels[split_idx:]\n",
    "\n",
    "# Monitor loss on both train and validation sets to decide when to stop training\n",
    "def evaluate_loss(nn, X, y):\n",
    "    predictions = nn.forward(X)\n",
    "    one_hot_labels = np.zeros((y.size, 10))\n",
    "    one_hot_labels[np.arange(y.size), y] = 1\n",
    "    return cross_entropy_loss(predictions, one_hot_labels)\n",
    "\n",
    "# Example of training loss vs validation loss\n",
    "train_loss = evaluate_loss(nn, train_X[:100] / 255.0, train_y[:100])\n",
    "val_loss = evaluate_loss(nn, val_X[:100] / 255.0, val_y[:100])\n",
    "print(f\"Training loss: {train_loss}, Validation loss: {val_loss}\")\n"
   ]
  },
  {
   "cell_type": "markdown",
   "id": "731fc447",
   "metadata": {},
   "source": [
    "### Full Code for the Training Loop with Momentum, Early Stopping, and Mini-batch Updates"
   ]
  },
  {
   "cell_type": "code",
   "execution_count": 26,
   "id": "2a43fa1b",
   "metadata": {},
   "outputs": [],
   "source": [
    "class MomentumNeuralNetwork:\n",
    "    def __init__(self, input_size=784, hidden_size=512, output_size=10, momentum=0.9):\n",
    "        # Initialize weights and biases with He initialization\n",
    "        self.weights_input_hidden = np.random.randn(input_size, hidden_size) * np.sqrt(2 / input_size)\n",
    "        self.bias_hidden = np.zeros((1, hidden_size))\n",
    "        self.weights_hidden_output = np.random.randn(hidden_size, output_size) * np.sqrt(2 / hidden_size)\n",
    "        self.bias_output = np.zeros((1, output_size))\n",
    "        \n",
    "        # Initialize velocities for momentum\n",
    "        self.momentum = momentum\n",
    "        self.velocity_wih = np.zeros_like(self.weights_input_hidden)\n",
    "        self.velocity_who = np.zeros_like(self.weights_hidden_output)\n",
    "        self.velocity_bh = np.zeros_like(self.bias_hidden)\n",
    "        self.velocity_bo = np.zeros_like(self.bias_output)\n",
    "\n",
    "    def relu(self, x):\n",
    "        return np.maximum(0, x)\n",
    "\n",
    "    def softmax(self, x):\n",
    "        exp_x = np.exp(x - np.max(x, axis=1, keepdims=True))\n",
    "        return exp_x / exp_x.sum(axis=1, keepdims=True)\n",
    "\n",
    "    def forward(self, x):\n",
    "        self.hidden_input = np.dot(x, self.weights_input_hidden) + self.bias_hidden\n",
    "        self.hidden_output = self.relu(self.hidden_input)\n",
    "        self.output_input = np.dot(self.hidden_output, self.weights_hidden_output) + self.bias_output\n",
    "        self.output = self.softmax(self.output_input)\n",
    "        return self.output\n",
    "\n",
    "    def backpropagate(self, x, y, learning_rate=0.001):\n",
    "        # Forward pass (already implemented)\n",
    "        output = self.forward(x)\n",
    "\n",
    "        # Calculate output layer error\n",
    "        output_error = output - y  # dL/dZ for the output layer\n",
    "        \n",
    "        # Backpropagate to hidden layer\n",
    "        hidden_error = np.dot(output_error, self.weights_hidden_output.T) * (self.hidden_output > 0)\n",
    "\n",
    "        # Gradients for weights and biases\n",
    "        grad_who = np.dot(self.hidden_output.T, output_error)\n",
    "        grad_b_o = np.sum(output_error, axis=0, keepdims=True)\n",
    "        grad_wih = np.dot(x.T, hidden_error)\n",
    "        grad_b_h = np.sum(hidden_error, axis=0, keepdims=True)\n",
    "\n",
    "        # Momentum-based weight updates\n",
    "        self.velocity_who = self.momentum * self.velocity_who - learning_rate * grad_who\n",
    "        self.velocity_bo = self.momentum * self.velocity_bo - learning_rate * grad_b_o\n",
    "        self.velocity_wih = self.momentum * self.velocity_wih - learning_rate * grad_wih\n",
    "        self.velocity_bh = self.momentum * self.velocity_bh - learning_rate * grad_b_h\n",
    "        \n",
    "        # Update weights and biases\n",
    "        self.weights_hidden_output += self.velocity_who\n",
    "        self.bias_output += self.velocity_bo\n",
    "        self.weights_input_hidden += self.velocity_wih\n",
    "        self.bias_hidden += self.velocity_bh\n",
    "\n",
    "# Cross-entropy loss function\n",
    "def cross_entropy_loss(predictions, labels):\n",
    "    return -np.mean(np.sum(labels * np.log(predictions + 1e-8), axis=1))\n",
    "\n",
    "# Convert labels to one-hot encoding\n",
    "def one_hot_encode(labels, num_classes=10):\n",
    "    one_hot = np.zeros((labels.size, num_classes))\n",
    "    one_hot[np.arange(labels.size), labels] = 1\n",
    "    return one_hot\n",
    "\n",
    "# Function to create mini-batches\n",
    "def create_mini_batches(X, y, batch_size):\n",
    "    indices = np.random.permutation(X.shape[0])\n",
    "    X_shuffled = X[indices]\n",
    "    y_shuffled = y[indices]\n",
    "    mini_batches = [(X_shuffled[i:i + batch_size], y_shuffled[i:i + batch_size]) \n",
    "                    for i in range(0, X.shape[0], batch_size)]\n",
    "    return mini_batches\n",
    "\n",
    "# Function to evaluate loss on a dataset\n",
    "def evaluate_loss(nn, X, y):\n",
    "    predictions = nn.forward(X)\n",
    "    return cross_entropy_loss(predictions, y)\n",
    "\n",
    "# Function to train the model with early stopping\n",
    "def train(nn, X_train, y_train, X_val, y_val, epochs, batch_size, learning_rate=0.001, patience=5):\n",
    "    best_val_loss = float('inf')\n",
    "    patience_counter = 0\n",
    "    train_losses = []\n",
    "    val_losses = []\n",
    "\n",
    "    for epoch in range(epochs):\n",
    "        # Shuffle and create mini-batches\n",
    "        mini_batches = create_mini_batches(X_train, y_train, batch_size)\n",
    "        \n",
    "        # Train on each mini-batch\n",
    "        for X_batch, y_batch in mini_batches:\n",
    "            nn.backpropagate(X_batch, y_batch, learning_rate)\n",
    "\n",
    "        # Compute training and validation loss\n",
    "        train_loss = evaluate_loss(nn, X_train, y_train)\n",
    "        val_loss = evaluate_loss(nn, X_val, y_val)\n",
    "\n",
    "        train_losses.append(train_loss)\n",
    "        val_losses.append(val_loss)\n",
    "\n",
    "        print(f'Epoch {epoch+1}/{epochs} - Training Loss: {train_loss:.4f}, Validation Loss: {val_loss:.4f}')\n",
    "        \n",
    "        # Early stopping check\n",
    "        if val_loss < best_val_loss:\n",
    "            best_val_loss = val_loss\n",
    "            patience_counter = 0\n",
    "            # Save the best model state\n",
    "            save_model(nn, \"best_model.pkl\")\n",
    "        else:\n",
    "            patience_counter += 1\n",
    "            if patience_counter >= patience:\n",
    "                print(\"Early stopping triggered.\")\n",
    "                break\n",
    "\n",
    "    return train_losses, val_losses\n",
    "\n",
    "# Function to save the model\n",
    "def save_model(nn, filename):\n",
    "    with open(filename, 'wb') as file:\n",
    "        pickle.dump(nn, file)\n",
    "    print(f\"Model saved to {filename}\")\n",
    "\n",
    "# Function to load a model\n",
    "def load_model(filename):\n",
    "    with open(filename, 'rb') as file:\n",
    "        nn = pickle.load(file)\n",
    "    print(f\"Model loaded from {filename}\")\n",
    "    return nn\n",
    "\n",
    "# Visualization function to plot training and validation loss\n",
    "def plot_losses(train_losses, val_losses):\n",
    "    plt.plot(train_losses, label='Training Loss')\n",
    "    plt.plot(val_losses, label='Validation Loss')\n",
    "    plt.xlabel('Epochs')\n",
    "    plt.ylabel('Loss')\n",
    "    plt.legend()\n",
    "    plt.show()\n"
   ]
  },
  {
   "cell_type": "markdown",
   "id": "f363a69d",
   "metadata": {},
   "source": [
    "### Training the Model"
   ]
  },
  {
   "cell_type": "code",
   "execution_count": 27,
   "id": "adbc6608",
   "metadata": {},
   "outputs": [
    {
     "name": "stdout",
     "output_type": "stream",
     "text": [
      "Epoch 1/50 - Training Loss: 0.1034, Validation Loss: 0.1338\n",
      "Model saved to best_model.pkl\n",
      "Epoch 2/50 - Training Loss: 0.0613, Validation Loss: 0.1018\n",
      "Model saved to best_model.pkl\n",
      "Epoch 3/50 - Training Loss: 0.0401, Validation Loss: 0.0921\n",
      "Model saved to best_model.pkl\n",
      "Epoch 4/50 - Training Loss: 0.0278, Validation Loss: 0.0848\n",
      "Model saved to best_model.pkl\n",
      "Epoch 5/50 - Training Loss: 0.0171, Validation Loss: 0.0758\n",
      "Model saved to best_model.pkl\n",
      "Epoch 6/50 - Training Loss: 0.0119, Validation Loss: 0.0789\n",
      "Epoch 7/50 - Training Loss: 0.0067, Validation Loss: 0.0775\n",
      "Epoch 8/50 - Training Loss: 0.0065, Validation Loss: 0.0813\n",
      "Epoch 9/50 - Training Loss: 0.0029, Validation Loss: 0.0744\n",
      "Model saved to best_model.pkl\n",
      "Epoch 10/50 - Training Loss: 0.0021, Validation Loss: 0.0742\n",
      "Model saved to best_model.pkl\n",
      "Epoch 11/50 - Training Loss: 0.0018, Validation Loss: 0.0759\n",
      "Epoch 12/50 - Training Loss: 0.0020, Validation Loss: 0.0794\n",
      "Epoch 13/50 - Training Loss: 0.0012, Validation Loss: 0.0762\n",
      "Epoch 14/50 - Training Loss: 0.0010, Validation Loss: 0.0764\n",
      "Epoch 15/50 - Training Loss: 0.0009, Validation Loss: 0.0777\n",
      "Early stopping triggered.\n"
     ]
    },
    {
     "data": {
      "image/png": "[encoded data removed]",
      "text/plain": [
       "<Figure size 640x480 with 1 Axes>"
      ]
     },
     "metadata": {},
     "output_type": "display_data"
    },
    {
     "name": "stdout",
     "output_type": "stream",
     "text": [
      "Model loaded from best_model.pkl\n",
      "Test Loss: 0.06533116639492657\n"
     ]
    }
   ],
   "source": [
    "# Load and preprocess the data\n",
    "train_images = train_images / 255.0  # Normalize to range [0, 1]\n",
    "test_images = test_images / 255.0\n",
    "\n",
    "train_labels_one_hot = one_hot_encode(train_labels)\n",
    "test_labels_one_hot = one_hot_encode(test_labels)\n",
    "\n",
    "# Split into training and validation sets (75% training, 25% validation)\n",
    "split_idx = int(0.75 * len(train_images))\n",
    "X_train, X_val = train_images[:split_idx], train_images[split_idx:]\n",
    "y_train, y_val = train_labels_one_hot[:split_idx], train_labels_one_hot[split_idx:]\n",
    "\n",
    "# Create a neural network\n",
    "nn = MomentumNeuralNetwork()\n",
    "\n",
    "# Train the model\n",
    "train_losses, val_losses = train(nn, X_train, y_train, X_val, y_val, epochs=50, batch_size=64, learning_rate=0.001, patience=5)\n",
    "\n",
    "# Plot the training and validation loss\n",
    "plot_losses(train_losses, val_losses)\n",
    "\n",
    "# Load the best saved model (optional)\n",
    "best_model = load_model(\"best_model.pkl\")\n",
    "\n",
    "# Test the model on test data\n",
    "test_loss = evaluate_loss(best_model, test_images, test_labels_one_hot)\n",
    "print(f\"Test Loss: {test_loss}\")\n"
   ]
  },
  {
   "cell_type": "code",
   "execution_count": null,
   "id": "16fceb53",
   "metadata": {},
   "outputs": [],
   "source": []
  }
 ],
 "metadata": {
  "kernelspec": {
   "display_name": "Python 3 (ipykernel)",
   "language": "python",
   "name": "python3"
  },
  "language_info": {
   "codemirror_mode": {
    "name": "ipython",
    "version": 3
   },
   "file_extension": ".py",
   "mimetype": "text/x-python",
   "name": "python",
   "nbconvert_exporter": "python",
   "pygments_lexer": "ipython3",
   "version": "3.9.13"
  }
 },
 "nbformat": 4,
 "nbformat_minor": 5
}
