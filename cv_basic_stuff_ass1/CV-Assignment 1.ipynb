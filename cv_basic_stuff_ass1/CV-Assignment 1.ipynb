{
 "cells": [
  {
   "cell_type": "code",
   "execution_count": 24,
   "id": "edea2f33",
   "metadata": {},
   "outputs": [],
   "source": [
    "import cv2\n",
    "import numpy as np\n",
    "import os\n",
    "from skimage.feature import hog"
   ]
  },
  {
   "cell_type": "code",
   "execution_count": 25,
   "id": "632ebe77",
   "metadata": {},
   "outputs": [],
   "source": [
    "# Step 1: Load images\n",
    "# The images are in a folder called 'Database', and named as img1.jpg, img2.jpg, ..., img10.jpg\n",
    "image_folder = 'Database'\n",
    "image_files = [f'img{i}.jpg' for i in range(1, 11)]\n",
    "\n",
    "# Initialize lists to store feature vectors and labels\n",
    "features = []\n",
    "labels = []"
   ]
  },
  {
   "cell_type": "code",
   "execution_count": 26,
   "id": "e888ac70",
   "metadata": {},
   "outputs": [],
   "source": [
    "# Step 2: Pre-process images and extract features\n",
    "\n",
    "# Define a fixed image size for resizing (e.g., 128x128)\n",
    "fixed_size = (128, 128)\n",
    "\n",
    "# Loop through the images\n",
    "for idx, file in enumerate(image_files):\n",
    "    # Load the image\n",
    "    img_path = os.path.join(image_folder, file)\n",
    "    image = cv2.imread(img_path)\n",
    "    \n",
    "    # Pre-processing step 1: Resize the image to a fixed size\n",
    "    resized_image = cv2.resize(image, fixed_size)\n",
    "\n",
    "    # Pre-processing step 1: Convert image to grayscale\n",
    "    gray_image = cv2.cvtColor(resized_image, cv2.COLOR_BGR2GRAY)\n",
    "\n",
    "    # Pre-processing step 2: Apply Histogram Equalization\n",
    "    equalized_image = cv2.equalizeHist(gray_image)\n",
    "    \n",
    "    #step 3: HOG\n",
    "    # Feature Extraction: Histogram of Oriented Gradients (HOG)\n",
    "    # HOG captures gradients/edges for each small region of the image, which helps in object detection (in this case, face features).\n",
    "    # Parameters for HOG (we use a small cell size to capture finer details in faces)\n",
    "    fd, hog_image = hog(equalized_image, orientations=8, pixels_per_cell=(8, 8), \n",
    "                        cells_per_block=(2, 2), block_norm='L2-Hys', visualize=True)\n",
    "    \n",
    "    # Append the extracted feature vector and label\n",
    "    features.append(fd)\n",
    "    labels.append(idx)  # Assuming each image has a unique label 0-9"
   ]
  },
  {
   "cell_type": "code",
   "execution_count": 27,
   "id": "779c55fc",
   "metadata": {},
   "outputs": [
    {
     "name": "stdout",
     "output_type": "stream",
     "text": [
      "Matrix A (Feature Vectors):\n",
      "[[0.22213261 0.02759465 0.02759465 ... 0.05022804 0.11607798 0.03519271]\n",
      " [0.06952808 0.         0.29635955 ... 0.22787092 0.08655083 0.18601999]\n",
      " [0.         0.         0.         ... 0.00326683 0.01920036 0.01988374]\n",
      " ...\n",
      " [0.         0.         0.         ... 0.         0.         0.        ]\n",
      " [0.         0.         0.         ... 0.09923033 0.16644651 0.16813906]\n",
      " [0.         0.         0.         ... 0.34497987 0.1107012  0.00996348]]\n",
      "\n",
      "Matrix B (Labels):\n",
      "[0 1 2 3 4 5 6 7 8 9]\n"
     ]
    }
   ],
   "source": [
    "# Step 4: Create matrices A and B\n",
    "Matrix_A = np.array(features)  # Matrix A: feature vectors from HOG\n",
    "Matrix_B = np.array(labels)    # Matrix B: corresponding labels\n",
    "\n",
    "# Print Matrix A (feature vectors) and Matrix B (labels)\n",
    "print(\"Matrix A (Feature Vectors):\")\n",
    "print(Matrix_A)\n",
    "\n",
    "print(\"\\nMatrix B (Labels):\")\n",
    "print(Matrix_B)"
   ]
  },
  {
   "cell_type": "code",
   "execution_count": null,
   "id": "a35cb6d3",
   "metadata": {},
   "outputs": [],
   "source": []
  }
 ],
 "metadata": {
  "kernelspec": {
   "display_name": "Python 3 (ipykernel)",
   "language": "python",
   "name": "python3"
  },
  "language_info": {
   "codemirror_mode": {
    "name": "ipython",
    "version": 3
   },
   "file_extension": ".py",
   "mimetype": "text/x-python",
   "name": "python",
   "nbconvert_exporter": "python",
   "pygments_lexer": "ipython3",
   "version": "3.9.13"
  }
 },
 "nbformat": 4,
 "nbformat_minor": 5
}
